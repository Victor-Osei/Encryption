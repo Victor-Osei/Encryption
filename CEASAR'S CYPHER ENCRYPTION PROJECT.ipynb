{
 "cells": [
  {
   "cell_type": "markdown",
   "id": "f0529eab-7f62-42c7-82fa-6929ab8508e9",
   "metadata": {},
   "source": [
    "# CEASAR'S CYPHER ENCRYPTION PROJECT"
   ]
  },
  {
   "cell_type": "markdown",
   "id": "27adcec9-ad64-4e75-9118-b0d2c0822963",
   "metadata": {},
   "source": [
    "## Author(s): DAP Cohort 7 Group 6"
   ]
  },
  {
   "cell_type": "markdown",
   "id": "52ea9b05-6c8c-44f0-afad-ad3ee87db675",
   "metadata": {},
   "source": [
    "The programme uses a ceasar or shift cipher, a type of substitution cipher, to encrypt and decrypt messages. It prompts the user to choose between encryption and decryption modes, and then prompts the user to enter a key and the text to be encrypted or decrypted. Finally, it prints the result. "
   ]
  },
  {
   "cell_type": "code",
   "execution_count": null,
   "id": "40384fab-812e-4dec-a6fe-0ed319eaa4c8",
   "metadata": {},
   "outputs": [],
   "source": [
    "For example:"
   ]
  },
  {
   "cell_type": "markdown",
   "id": "2b7d2d6c-3928-433f-ad14-5fb736094687",
   "metadata": {},
   "source": [
    "Plaintext = THE QUICK BROWN FOX JUMPS OVER THE LAZY DOG"
   ]
  },
  {
   "cell_type": "markdown",
   "id": "b2d69b7b-d69b-4d1d-a396-0a452ce30b57",
   "metadata": {},
   "source": [
    "Ciphertext = QEB NRFZH YOLTK CLU GRJMP LSBO QEB IXWV ALD"
   ]
  },
  {
   "cell_type": "markdown",
   "id": "9580031d-3c95-4055-99a3-72a0aa983c05",
   "metadata": {},
   "source": [
    "### Left Shift Cipher"
   ]
  },
  {
   "cell_type": "markdown",
   "id": "643f65da-fa24-4a34-a70f-12f1d8906d5e",
   "metadata": {},
   "source": [
    "Use Key = 3"
   ]
  },
  {
   "cell_type": "code",
   "execution_count": 19,
   "id": "f2f3ca7a-85d3-4719-bc05-34a6ec0cfc55",
   "metadata": {},
   "outputs": [
    {
     "name": "stdout",
     "output_type": "stream",
     "text": [
      "\n",
      "***CEASAR CIPHER PROGRAM***\n",
      "\n",
      "Do you want to encrypt or decrypt?\n"
     ]
    },
    {
     "name": "stdin",
     "output_type": "stream",
     "text": [
      "Please enter either 'e' for encryption or 'd' for decryption: e\n"
     ]
    },
    {
     "name": "stdout",
     "output_type": "stream",
     "text": [
      "\n",
      "ENCRYPTION MODE SELECTED\n",
      "\n"
     ]
    },
    {
     "name": "stdin",
     "output_type": "stream",
     "text": [
      "Please enter a key between 1 and 25: 3\n",
      "Please enter the text to be encrypted: THE QUICK BROWN FOX JUMPS OVER THE LAZY DOG\n"
     ]
    },
    {
     "name": "stdout",
     "output_type": "stream",
     "text": [
      "CIPHERTEXT: QEB NRFZH YOLTK CLU GRJMP LSBO QEB IXWV ALD\n"
     ]
    }
   ],
   "source": [
    "# Define the alphabet as a string\n",
    "letters = \"ABCDEFGHIJKLMNOPQRSTUVWXYZ\"\n",
    "\n",
    "# Get the number of letters in the alphabet\n",
    "num_letters = len(letters)\n",
    "\n",
    "# Function to encrypt or decrypt a given text using a Caesar cipher\n",
    "def encrypt_decrypt(text, mode, key):\n",
    "    \n",
    "    # Initialize an empty string to store the result\n",
    "    changed_text = \"\"\n",
    "    # If the mode is decryption, invert the key\n",
    "    if mode == \"d\":\n",
    "        key = -key\n",
    "    \n",
    "    # Iterate through each letter in the text\n",
    "    for letter in text:\n",
    "        # Convert the letter to uppercase\n",
    "        letter = letter.upper()\n",
    "        \n",
    "        # If the letter is a space, add it to the result unchanged\n",
    "        if letter == \" \":\n",
    "            changed_text += letter\n",
    "        \n",
    "        # If the letter is not a space, perform encryption/decryption\n",
    "        if not letter == \" \":\n",
    "            # Find the index of the letter in the alphabet\n",
    "            index = letters.find(letter)\n",
    "            \n",
    "            # If the letter is not found in the alphabet, add it to the result unchanged\n",
    "            if index == -1:\n",
    "                changed_text += letter\n",
    "            \n",
    "            # If the letter is found in the alphabet, perform encryption/decryption\n",
    "            else:\n",
    "                # Calculate the new index after applying the key\n",
    "                new_index = index - key\n",
    "                \n",
    "                # Adjust the new index if it goes beyond the bounds of the alphabet\n",
    "                if new_index < 0:\n",
    "                    new_index += num_letters\n",
    "                elif new_index >= num_letters:\n",
    "                    new_index -= num_letters\n",
    "                \n",
    "                # Add the corresponding letter from the alphabet to the result\n",
    "                changed_text += letters[new_index]\n",
    "    \n",
    "    # Return the encrypted/decrypted text\n",
    "    return changed_text\n",
    "\n",
    "# Print program title\n",
    "print()\n",
    "print(\"***CEASAR CIPHER PROGRAM***\")\n",
    "print()\n",
    "\n",
    "# Prompt the user to choose encryption or decryption mode\n",
    "print(\"Do you want to encrypt or decrypt?\")\n",
    "mode = input(\"Please enter either 'e' for encryption or 'd' for decryption:\").lower()\n",
    "print()\n",
    "\n",
    "# Based on the chosen mode, perform encryption or decryption\n",
    "if mode == \"e\":\n",
    "    # Encryption mode selected\n",
    "    print(\"ENCRYPTION MODE SELECTED\")\n",
    "    print()\n",
    "    # Prompt the user to enter a key\n",
    "    key = int(input(\"Please enter a key between 1 and 25:\"))\n",
    "    # Prompt the user to enter the text to be encrypted\n",
    "    text = input(\"Please enter the text to be encrypted:\")\n",
    "    # Encrypt the text using the specified key\n",
    "    ciphertext = encrypt_decrypt(text, mode, key)\n",
    "    # Print the encrypted text\n",
    "    print(f\"CIPHERTEXT: {ciphertext}\")\n",
    "\n",
    "elif mode == \"d\":\n",
    "    # Decryption mode selected\n",
    "    print(\"DECRYPTION MODE SELECTED\")\n",
    "    print()\n",
    "    # Prompt the user to enter a key\n",
    "    key = int(input(\"Please enter a key between 1 and 25:\"))\n",
    "    # Prompt the user to enter the text to be decrypted\n",
    "    text = input(\"Please enter the text to be decrypted:\")\n",
    "    # Decrypt the text using the specified key\n",
    "    plaintext = encrypt_decrypt(text, mode, key)\n",
    "    # Print the decrypted text\n",
    "    print(f\"PLAINTEXT: {plaintext}\")"
   ]
  },
  {
   "cell_type": "markdown",
   "id": "12c65345-a656-4e50-b2bc-da04194844df",
   "metadata": {},
   "source": [
    "### Right Shift Cipher"
   ]
  },
  {
   "cell_type": "markdown",
   "id": "cea445a1-7fac-4f85-b592-100148bcb121",
   "metadata": {},
   "source": [
    "Use Key = 23"
   ]
  },
  {
   "cell_type": "code",
   "execution_count": 20,
   "id": "967515e0-6b86-45d5-94e3-69e866194221",
   "metadata": {},
   "outputs": [
    {
     "name": "stdout",
     "output_type": "stream",
     "text": [
      "\n",
      "***CEASAR CIPHER PROGRAM***\n",
      "\n",
      "Do you want to encrypt or decrypt?\n"
     ]
    },
    {
     "name": "stdin",
     "output_type": "stream",
     "text": [
      "Please enter either 'e' for encryption or 'd' for decryption: d\n"
     ]
    },
    {
     "name": "stdout",
     "output_type": "stream",
     "text": [
      "\n",
      "DECRYPTION MODE SELECTED\n",
      "\n"
     ]
    },
    {
     "name": "stdin",
     "output_type": "stream",
     "text": [
      "Please enter a key between 1 and 25: 23\n",
      "Please enter the text to be decrypted: QEB NRFZH YOLTK CLU GRJMP LSBO QEB IXWV ALD\n"
     ]
    },
    {
     "name": "stdout",
     "output_type": "stream",
     "text": [
      "PLAINTEXT: THE QUICK BROWN FOX JUMPS OVER THE LAZY DOG\n"
     ]
    }
   ],
   "source": [
    "# Define the alphabet as a string\n",
    "letters = \"ABCDEFGHIJKLMNOPQRSTUVWXYZ\"\n",
    "\n",
    "# Get the number of letters in the alphabet\n",
    "num_letters = len(letters)\n",
    "\n",
    "# Function to encrypt or decrypt a given text using a Caesar cipher\n",
    "def encrypt_decrypt(text, mode, key):\n",
    "    \n",
    "    # Initialize an empty string to store the result\n",
    "    changed_text = \"\"\n",
    "    # If the mode is decryption, invert the key\n",
    "    if mode == \"d\":\n",
    "        key = -key\n",
    "    \n",
    "    # Iterate through each letter in the text\n",
    "    for letter in text:\n",
    "        # Convert the letter to uppercase\n",
    "        letter = letter.upper()\n",
    "        \n",
    "        # If the letter is a space, add it to the result unchanged\n",
    "        if letter == \" \":\n",
    "            changed_text += letter\n",
    "        \n",
    "        # If the letter is not a space, perform encryption/decryption\n",
    "        if not letter == \" \":\n",
    "            # Find the index of the letter in the alphabet\n",
    "            index = letters.find(letter)\n",
    "            \n",
    "            # If the letter is not found in the alphabet, add it to the result unchanged\n",
    "            if index == -1:\n",
    "                changed_text += letter\n",
    "            \n",
    "            # If the letter is found in the alphabet, perform encryption/decryption\n",
    "            else:\n",
    "                # Calculate the new index after applying the key\n",
    "                new_index = index + key\n",
    "                \n",
    "                # Adjust the new index if it goes beyond the bounds of the alphabet\n",
    "                if new_index >= num_letters:\n",
    "                    new_index -= num_letters\n",
    "                elif new_index < 0:\n",
    "                    new_index += num_letters\n",
    "                \n",
    "                # Add the corresponding letter from the alphabet to the result\n",
    "                changed_text += letters[new_index]\n",
    "    \n",
    "    # Return the encrypted/decrypted text\n",
    "    return changed_text\n",
    "\n",
    "# Print program title\n",
    "print()\n",
    "print(\"***CEASAR CIPHER PROGRAM***\")\n",
    "print()\n",
    "\n",
    "# Prompt the user to choose encryption or decryption mode\n",
    "print(\"Do you want to encrypt or decrypt?\")\n",
    "mode = input(\"Please enter either 'e' for encryption or 'd' for decryption:\").lower()\n",
    "print()\n",
    "\n",
    "# Based on the chosen mode, perform encryption or decryption\n",
    "if mode == \"e\":\n",
    "    # Encryption mode selected\n",
    "    print(\"ENCRYPTION MODE SELECTED\")\n",
    "    print()\n",
    "    # Prompt the user to enter a key\n",
    "    key = int(input(\"Please enter a key between 1 and 25:\"))\n",
    "    # Prompt the user to enter the text to be encrypted\n",
    "    text = input(\"Please enter the text to be encrypted:\")\n",
    "    # Encrypt the text using the specified key\n",
    "    ciphertext = encrypt_decrypt(text, mode, key)\n",
    "    # Print the encrypted text\n",
    "    print(f\"CIPHERTEXT: {ciphertext}\")\n",
    "\n",
    "elif mode == \"d\":\n",
    "    # Decryption mode selected\n",
    "    print(\"DECRYPTION MODE SELECTED\")\n",
    "    print()\n",
    "    # Prompt the user to enter a key\n",
    "    key = int(input(\"Please enter a key between 1 and 25:\"))\n",
    "    # Prompt the user to enter the text to be decrypted\n",
    "    text = input(\"Please enter the text to be decrypted:\")\n",
    "    # Decrypt the text using the specified key\n",
    "    plaintext = encrypt_decrypt(text, mode, key)\n",
    "    # Print the decrypted text\n",
    "    print(f\"PLAINTEXT: {plaintext}\")"
   ]
  }
 ],
 "metadata": {
  "kernelspec": {
   "display_name": "Python 3 (ipykernel)",
   "language": "python",
   "name": "python3"
  },
  "language_info": {
   "codemirror_mode": {
    "name": "ipython",
    "version": 3
   },
   "file_extension": ".py",
   "mimetype": "text/x-python",
   "name": "python",
   "nbconvert_exporter": "python",
   "pygments_lexer": "ipython3",
   "version": "3.10.11"
  }
 },
 "nbformat": 4,
 "nbformat_minor": 5
}
